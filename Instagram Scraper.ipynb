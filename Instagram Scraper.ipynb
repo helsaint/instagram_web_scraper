{
 "cells": [
  {
   "cell_type": "code",
   "execution_count": 1,
   "id": "d3c3145b",
   "metadata": {},
   "outputs": [],
   "source": [
    "from selenium import webdriver\n",
    "from selenium.webdriver.common.keys import Keys\n",
    "from selenium.webdriver.common.by import By\n",
    "from selenium.webdriver.chrome.options import Options\n",
    "from selenium.webdriver.support.wait import WebDriverWait\n",
    "from selenium.webdriver.support import expected_conditions as EC\n",
    "from selenium.common.exceptions import NoSuchElementException\n",
    "from selenium.common.exceptions import NoSuchWindowException\n",
    "from selenium.common.exceptions import TimeoutException\n",
    "from selenium.common.exceptions import WebDriverException\n",
    "from selenium.common.exceptions import ElementNotInteractableException\n",
    "from selenium.common.exceptions import StaleElementReferenceException\n",
    "import requests\n",
    "from bs4 import BeautifulSoup\n",
    "import pandas as pd\n",
    "import numpy as np"
   ]
  },
  {
   "cell_type": "code",
   "execution_count": 2,
   "id": "f8d91d87",
   "metadata": {},
   "outputs": [],
   "source": [
    "import time"
   ]
  },
  {
   "cell_type": "code",
   "execution_count": 34,
   "id": "6db4f646",
   "metadata": {},
   "outputs": [],
   "source": [
    "# Example we are trying to scrape text from the blow url. Because Instagram\n",
    "# requires login we suggest that you auto login using chrome and then use chrome user data\n",
    "# as an argument to load the chrome browser\n",
    "# The browser is fully loaded and viewable to the user as this is not a fully automated scraper\n",
    "# Close any open chrome browser before running or an error is thrown\n",
    "url = 'https://www.instagram.com/eggsoeufs/'\n",
    "options = webdriver.ChromeOptions()\n",
    "options.add_argument(r\"--user-data-dir=C:\\Users\\alexe\\AppData\\Local\\Google\\Chrome\\User Data\")\n",
    "options.add_argument(r'--profile-directory=Default')\n",
    "driver = webdriver.Chrome(executable_path=r\"chromedriver.exe\", options=options)\n",
    "driver.get(url)"
   ]
  },
  {
   "cell_type": "code",
   "execution_count": 118,
   "id": "1f61220e",
   "metadata": {},
   "outputs": [],
   "source": [
    "driver.execute_script(\"window.scrollTo(0, document.body.scrollHeight);\")"
   ]
  },
  {
   "cell_type": "code",
   "execution_count": 35,
   "id": "837c16ec",
   "metadata": {},
   "outputs": [
    {
     "name": "stdout",
     "output_type": "stream",
     "text": [
      "3226\n",
      "5417\n",
      "7921\n",
      "9173\n"
     ]
    }
   ],
   "source": [
    "# We will auto scroll until either we can't scroll anymore or the number of iterations of the scroll\n",
    "# reaches 0 based on the count value. Thus if the page has a large number of inputs we will not be able\n",
    "# to save everything.\n",
    "# Since we are trying to get the text of the images we are collecting the links and storing them in list_links\n",
    "last_height = driver.execute_script(\"return document.body.scrollHeight\")\n",
    "boolScroll = True\n",
    "count = 100\n",
    "set_links = set()\n",
    "while (boolScroll) and (count > 0):\n",
    "    driver.execute_script(\"window.scrollTo(0, document.body.scrollHeight);\")\n",
    "    count = count - 1\n",
    "    temp = driver.find_elements(By.XPATH,\"//div[@class='_aabd _aa8k  _al3l']\")\n",
    "    for item in temp:\n",
    "        try:\n",
    "            temp1 = item.find_element(By.TAG_NAME, 'a')\n",
    "            set_links.add(temp1.get_attribute('href'))\n",
    "        except StaleElementReferenceException as Exception:\n",
    "            time.sleep(0.5)\n",
    "    time.sleep(7)\n",
    "    new_height = driver.execute_script(\"return document.body.scrollHeight\")\n",
    "    if new_height == last_height:\n",
    "        boolScroll = False\n",
    "        print(new_height)\n",
    "    else:\n",
    "        last_height = new_height\n",
    "    print(last_height)"
   ]
  },
  {
   "cell_type": "code",
   "execution_count": 36,
   "id": "9b932406",
   "metadata": {},
   "outputs": [
    {
     "name": "stdout",
     "output_type": "stream",
     "text": [
      "69\n"
     ]
    }
   ],
   "source": [
    "print(len(set_links))"
   ]
  },
  {
   "cell_type": "code",
   "execution_count": 39,
   "id": "89845bf2",
   "metadata": {},
   "outputs": [
    {
     "data": {
      "text/plain": [
       "(69, 5)"
      ]
     },
     "execution_count": 39,
     "metadata": {},
     "output_type": "execute_result"
    }
   ],
   "source": [
    "df = pd.DataFrame(columns = ['Title', 'Date', 'Text', 'Poster', 'MultiMedia'])\n",
    "for link in set_links:\n",
    "    driver.get(link)\n",
    "    time.sleep(5)\n",
    "    title = driver.find_element(By.XPATH, \"//time[@class='_aaqe']\").get_attribute(\"title\")\n",
    "    date = driver.find_element(By.XPATH,\"//time[@class='_aaqe']\").get_attribute(\"title\")\n",
    "    text = driver.find_element(By.XPATH, \"//h1[@class='_aacl _aaco _aacu _aacx _aad7 _aade']\").text\n",
    "    by = driver.find_element(By.XPATH, \"//div[@class='xt0psk2']\").text\n",
    "    mm_link = driver.find_element(By.XPATH, \"//div[@class='_aagv']/img\").get_attribute('src')\n",
    "    df_temp = pd.DataFrame({'Title' : [title], 'Date' : [date], 'Text' : [text], 'Poster' : [by], 'MultiMedia' : [mm_link]})\n",
    "    df = pd.concat([df,df_temp])\n",
    "df.shape"
   ]
  },
  {
   "cell_type": "code",
   "execution_count": 40,
   "id": "001db1c7",
   "metadata": {},
   "outputs": [
    {
     "data": {
      "text/html": [
       "<div>\n",
       "<style scoped>\n",
       "    .dataframe tbody tr th:only-of-type {\n",
       "        vertical-align: middle;\n",
       "    }\n",
       "\n",
       "    .dataframe tbody tr th {\n",
       "        vertical-align: top;\n",
       "    }\n",
       "\n",
       "    .dataframe thead th {\n",
       "        text-align: right;\n",
       "    }\n",
       "</style>\n",
       "<table border=\"1\" class=\"dataframe\">\n",
       "  <thead>\n",
       "    <tr style=\"text-align: right;\">\n",
       "      <th></th>\n",
       "      <th>Title</th>\n",
       "      <th>Date</th>\n",
       "      <th>Text</th>\n",
       "      <th>Poster</th>\n",
       "      <th>MultiMedia</th>\n",
       "    </tr>\n",
       "  </thead>\n",
       "  <tbody>\n",
       "    <tr>\n",
       "      <th>0</th>\n",
       "      <td>Mar 10, 2023</td>\n",
       "      <td>Mar 10, 2023</td>\n",
       "      <td>Hey #Vancity! Have the best of both worlds at ...</td>\n",
       "      <td>eggsoeufs</td>\n",
       "      <td>https://scontent.cdninstagram.com/v/t51.2885-1...</td>\n",
       "    </tr>\n",
       "    <tr>\n",
       "      <th>0</th>\n",
       "      <td>Mar 16, 2023</td>\n",
       "      <td>Mar 16, 2023</td>\n",
       "      <td>We need your vote! It’s time for #MarchMadness...</td>\n",
       "      <td>fosterfeasts</td>\n",
       "      <td>https://instagram.fymq2-1.fna.fbcdn.net/v/t51....</td>\n",
       "    </tr>\n",
       "    <tr>\n",
       "      <th>0</th>\n",
       "      <td>Apr 21, 2023</td>\n",
       "      <td>Apr 21, 2023</td>\n",
       "      <td>Level up your traditional #GrilledCheese...tha...</td>\n",
       "      <td>eggsoeufs</td>\n",
       "      <td>https://scontent.cdninstagram.com/v/t51.2885-1...</td>\n",
       "    </tr>\n",
       "    <tr>\n",
       "      <th>0</th>\n",
       "      <td>Mar 13, 2023</td>\n",
       "      <td>Mar 13, 2023</td>\n",
       "      <td>To kick off #MarchBreak, we've got an eggcelle...</td>\n",
       "      <td>eggsoeufs</td>\n",
       "      <td>https://scontent.cdninstagram.com/v/t51.2885-1...</td>\n",
       "    </tr>\n",
       "    <tr>\n",
       "      <th>0</th>\n",
       "      <td>Mar 31, 2023</td>\n",
       "      <td>Mar 31, 2023</td>\n",
       "      <td>Shake things up and opt for #SavouryCrepes wit...</td>\n",
       "      <td>eggsoeufs</td>\n",
       "      <td>https://scontent.cdninstagram.com/v/t51.2885-1...</td>\n",
       "    </tr>\n",
       "  </tbody>\n",
       "</table>\n",
       "</div>"
      ],
      "text/plain": [
       "          Title          Date  \\\n",
       "0  Mar 10, 2023  Mar 10, 2023   \n",
       "0  Mar 16, 2023  Mar 16, 2023   \n",
       "0  Apr 21, 2023  Apr 21, 2023   \n",
       "0  Mar 13, 2023  Mar 13, 2023   \n",
       "0  Mar 31, 2023  Mar 31, 2023   \n",
       "\n",
       "                                                Text        Poster  \\\n",
       "0  Hey #Vancity! Have the best of both worlds at ...     eggsoeufs   \n",
       "0  We need your vote! It’s time for #MarchMadness...  fosterfeasts   \n",
       "0  Level up your traditional #GrilledCheese...tha...     eggsoeufs   \n",
       "0  To kick off #MarchBreak, we've got an eggcelle...     eggsoeufs   \n",
       "0  Shake things up and opt for #SavouryCrepes wit...     eggsoeufs   \n",
       "\n",
       "                                          MultiMedia  \n",
       "0  https://scontent.cdninstagram.com/v/t51.2885-1...  \n",
       "0  https://instagram.fymq2-1.fna.fbcdn.net/v/t51....  \n",
       "0  https://scontent.cdninstagram.com/v/t51.2885-1...  \n",
       "0  https://scontent.cdninstagram.com/v/t51.2885-1...  \n",
       "0  https://scontent.cdninstagram.com/v/t51.2885-1...  "
      ]
     },
     "execution_count": 40,
     "metadata": {},
     "output_type": "execute_result"
    }
   ],
   "source": [
    "df.head()"
   ]
  },
  {
   "cell_type": "code",
   "execution_count": 23,
   "id": "f3ec43be",
   "metadata": {},
   "outputs": [],
   "source": [
    "driver.get(list(set_links)[-1])"
   ]
  },
  {
   "cell_type": "code",
   "execution_count": 24,
   "id": "f00e3050",
   "metadata": {},
   "outputs": [
    {
     "data": {
      "text/plain": [
       "'Aug 12, 2022'"
      ]
     },
     "execution_count": 24,
     "metadata": {},
     "output_type": "execute_result"
    }
   ],
   "source": [
    "driver.find_element(By.XPATH,\"//time[@class='_aaqe']\").get_attribute(\"title\")"
   ]
  },
  {
   "cell_type": "code",
   "execution_count": 25,
   "id": "69494af6",
   "metadata": {},
   "outputs": [
    {
     "data": {
      "text/plain": [
       "'My weekends are truly not complete without #BrunchTime🍳 and my brunch meal staple is ALWAY EGGS 🍳. #ad I love all the creative ways our local restaurants use eggs in their menus, from a good old-fashioned classic breakfast to an unforgettable brunch bowl egg-sperience. Here are some of my favourite local spots featuring egg-ceptional egg dishes that you need to check out:\\n\\n🥚 Classic Breakfast from @bluestar_yyc\\n\\n🥚Bagel Forestiere from @oeb_breakfast\\n\\n🥚Truffle bacon mushroom bowl and Duck Confit Monte Cristo from @namoyyc\\n\\n🥚Bird nest from @zcrewcafe\\n\\nLet me know your favourite brunch spot in Calgary! @eggsoeufs #EggsAnytime #LocalLove'"
      ]
     },
     "execution_count": 25,
     "metadata": {},
     "output_type": "execute_result"
    }
   ],
   "source": [
    "driver.find_element(By.XPATH, \"//h1[@class='_aacl _aaco _aacu _aacx _aad7 _aade']\").text"
   ]
  },
  {
   "cell_type": "code",
   "execution_count": 26,
   "id": "94a06d6d",
   "metadata": {},
   "outputs": [
    {
     "data": {
      "text/plain": [
       "'rachelhaneats'"
      ]
     },
     "execution_count": 26,
     "metadata": {},
     "output_type": "execute_result"
    }
   ],
   "source": [
    "driver.find_element(By.XPATH, \"//div[@class='xt0psk2']\").text"
   ]
  },
  {
   "cell_type": "code",
   "execution_count": 27,
   "id": "a53c5fa4",
   "metadata": {},
   "outputs": [
    {
     "data": {
      "text/plain": [
       "'https://scontent.cdninstagram.com/v/t51.2885-15/298670680_610408290444642_6670465811055762567_n.jpg?stp=dst-jpg_e35&_nc_ht=scontent.cdninstagram.com&_nc_cat=106&_nc_ohc=GG5oz4w6OhsAX_yZklV&edm=APs17CUBAAAA&ccb=7-5&ig_cache_key=MjkwMzQwNjMzMDYyODcyMDM4Mg%3D%3D.2-ccb7-5&oh=00_AfDhg1fDDiA1tizvKV_NNGp_QkvIG5X71Hawd2FG_2k21w&oe=6466866E&_nc_sid=978cb9'"
      ]
     },
     "execution_count": 27,
     "metadata": {},
     "output_type": "execute_result"
    }
   ],
   "source": [
    "driver.find_element(By.XPATH, \"//div[@class='_aagv']/img\").get_attribute('src')"
   ]
  },
  {
   "cell_type": "code",
   "execution_count": null,
   "id": "329aad07",
   "metadata": {},
   "outputs": [],
   "source": []
  }
 ],
 "metadata": {
  "kernelspec": {
   "display_name": "Python 3 (ipykernel)",
   "language": "python",
   "name": "python3"
  },
  "language_info": {
   "codemirror_mode": {
    "name": "ipython",
    "version": 3
   },
   "file_extension": ".py",
   "mimetype": "text/x-python",
   "name": "python",
   "nbconvert_exporter": "python",
   "pygments_lexer": "ipython3",
   "version": "3.8.16"
  }
 },
 "nbformat": 4,
 "nbformat_minor": 5
}
