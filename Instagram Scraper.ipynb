{
 "cells": [
  {
   "cell_type": "code",
   "execution_count": 185,
   "id": "8b9d9e4b",
   "metadata": {},
   "outputs": [],
   "source": [
    "from selenium import webdriver\n",
    "from selenium.webdriver.common.keys import Keys\n",
    "from selenium.webdriver.common.by import By\n",
    "from selenium.webdriver.chrome.options import Options\n",
    "from selenium.webdriver.support.wait import WebDriverWait\n",
    "from selenium.webdriver.support import expected_conditions as EC\n",
    "from selenium.common.exceptions import NoSuchElementException\n",
    "from selenium.common.exceptions import NoSuchWindowException\n",
    "from selenium.common.exceptions import TimeoutException\n",
    "from selenium.common.exceptions import WebDriverException\n",
    "from selenium.common.exceptions import ElementNotInteractableException\n",
    "from selenium.common.exceptions import StaleElementReferenceException\n",
    "import requests\n",
    "from bs4 import BeautifulSoup\n",
    "import pandas as pd\n",
    "import numpy as np"
   ]
  },
  {
   "cell_type": "code",
   "execution_count": 120,
   "id": "1e429cd4",
   "metadata": {},
   "outputs": [],
   "source": [
    "import time"
   ]
  },
  {
   "cell_type": "code",
   "execution_count": 205,
   "id": "864260f9",
   "metadata": {},
   "outputs": [],
   "source": [
    "url = 'https://www.instagram.com/eggsoeufs/'\n",
    "options = webdriver.ChromeOptions()\n",
    "options.add_argument(r\"--user-data-dir=C:\\Users\\alexe\\AppData\\Local\\Google\\Chrome\\User Data\")\n",
    "options.add_argument(r'--profile-directory=Default')\n",
    "driver = webdriver.Chrome(executable_path=r\"chromedriver.exe\", options=options)\n",
    "driver.get(url)"
   ]
  },
  {
   "cell_type": "code",
   "execution_count": 118,
   "id": "8b5e3383",
   "metadata": {},
   "outputs": [],
   "source": [
    "driver.execute_script(\"window.scrollTo(0, document.body.scrollHeight);\")"
   ]
  },
  {
   "cell_type": "code",
   "execution_count": 206,
   "id": "0b04ba03",
   "metadata": {},
   "outputs": [
    {
     "name": "stdout",
     "output_type": "stream",
     "text": [
      "4165\n",
      "5417\n",
      "7608\n",
      "8860\n"
     ]
    }
   ],
   "source": [
    "last_height = driver.execute_script(\"return document.body.scrollHeight\")\n",
    "boolScroll = True\n",
    "count = 4\n",
    "list_links = []\n",
    "while (boolScroll) and (count > 0):\n",
    "    driver.execute_script(\"window.scrollTo(0, document.body.scrollHeight);\")\n",
    "    count = count - 1\n",
    "    temp = driver.find_elements(By.XPATH,\"//div[@class='_aabd _aa8k  _al3l']\")\n",
    "    for item in temp:\n",
    "        try:\n",
    "            temp1 = item.find_element(By.TAG_NAME, 'a')\n",
    "            list_links.append(temp1.get_attribute('href'))\n",
    "        except StaleElementReferenceException as Exception:\n",
    "            print(\"error\")\n",
    "            temp1 = item.find_element(By.TAG_NAME, 'a')\n",
    "            list_links.append(temp1.get_attribute('href'))\n",
    "    time.sleep(5)\n",
    "    new_height = driver.execute_script(\"return document.body.scrollHeight\")\n",
    "    if new_height == last_height:\n",
    "        boolScroll = False\n",
    "        print(new_height)\n",
    "    else:\n",
    "        last_height = new_height\n",
    "    print(last_height)"
   ]
  },
  {
   "cell_type": "code",
   "execution_count": 134,
   "id": "f77d595d",
   "metadata": {},
   "outputs": [],
   "source": [
    "a = driver.find_elements(By.XPATH,\"//div[@class='_ac7v  _al3n']\")"
   ]
  },
  {
   "cell_type": "code",
   "execution_count": 207,
   "id": "f7d9ac08",
   "metadata": {},
   "outputs": [
    {
     "name": "stdout",
     "output_type": "stream",
     "text": [
      "102\n"
     ]
    }
   ],
   "source": [
    "print(len(list_links))"
   ]
  },
  {
   "cell_type": "code",
   "execution_count": 208,
   "id": "980bf72e",
   "metadata": {},
   "outputs": [
    {
     "data": {
      "text/plain": [
       "66"
      ]
     },
     "execution_count": 208,
     "metadata": {},
     "output_type": "execute_result"
    }
   ],
   "source": [
    "len(set(list_links))"
   ]
  },
  {
   "cell_type": "code",
   "execution_count": 202,
   "id": "9bb63c10",
   "metadata": {},
   "outputs": [
    {
     "data": {
      "text/plain": [
       "['https://www.instagram.com/p/CrOUuNXArA2/',\n",
       " 'https://www.instagram.com/p/Cq0kr_7A9Dp/',\n",
       " 'https://www.instagram.com/p/CqBGhyKgJVs/',\n",
       " 'https://www.instagram.com/p/CsJiqAZghe1/',\n",
       " 'https://www.instagram.com/p/CsGWGbzgQLB/',\n",
       " 'https://www.instagram.com/p/CsB0mAFgZeO/',\n",
       " 'https://www.instagram.com/p/Cr8X5sOOpBN/',\n",
       " 'https://www.instagram.com/p/Cr5VjgNs14w/',\n",
       " 'https://www.instagram.com/p/Cr38xpyOjRI/',\n",
       " 'https://www.instagram.com/p/Cr3TLqaMk3H/',\n",
       " 'https://www.instagram.com/p/Cr08Ou5s2qT/',\n",
       " 'https://www.instagram.com/p/CryXx9nMaPz/',\n",
       " 'https://www.instagram.com/p/CsJiqAZghe1/',\n",
       " 'https://www.instagram.com/p/CsGWGbzgQLB/',\n",
       " 'https://www.instagram.com/p/CsB0mAFgZeO/',\n",
       " 'https://www.instagram.com/p/Cr8X5sOOpBN/',\n",
       " 'https://www.instagram.com/p/Cr5VjgNs14w/',\n",
       " 'https://www.instagram.com/p/Cr38xpyOjRI/',\n",
       " 'https://www.instagram.com/p/Cr3TLqaMk3H/',\n",
       " 'https://www.instagram.com/p/Cr08Ou5s2qT/',\n",
       " 'https://www.instagram.com/p/CryXx9nMaPz/',\n",
       " 'https://www.instagram.com/p/CrvlPAutHrD/',\n",
       " 'https://www.instagram.com/p/CrtZmU2g-s0/',\n",
       " 'https://www.instagram.com/p/CroMmznAJZA/',\n",
       " 'https://www.instagram.com/p/CrlfgdMto5u/',\n",
       " 'https://www.instagram.com/p/CrjBnJZAu4B/',\n",
       " 'https://www.instagram.com/p/CrgV3ymSTP6/',\n",
       " 'https://www.instagram.com/p/Crd0WcZgAAf/',\n",
       " 'https://www.instagram.com/p/CrbFoAYAsus/',\n",
       " 'https://www.instagram.com/p/CrWFHw9gbdc/',\n",
       " 'https://www.instagram.com/p/CrTkrIRhxLK/',\n",
       " 'https://www.instagram.com/p/CrQ5C4FMVcz/',\n",
       " 'https://www.instagram.com/p/CrLxPHhA0Hg/',\n",
       " 'https://www.instagram.com/p/CrI823lsczY/',\n",
       " 'https://www.instagram.com/p/CrGlx8zsYlL/',\n",
       " 'https://www.instagram.com/p/CrEG6eggJgn/',\n",
       " 'https://www.instagram.com/p/CrBji-zpcOg/',\n",
       " 'https://www.instagram.com/p/Cq_2WgkpZma/',\n",
       " 'https://www.instagram.com/p/Cq8SwsCsfeJ/',\n",
       " 'https://www.instagram.com/p/Cq5u2VlMINx/',\n",
       " 'https://www.instagram.com/p/CqyGiBmMZV3/',\n",
       " 'https://www.instagram.com/p/CqtAE2AhWLW/',\n",
       " 'https://www.instagram.com/p/CrlfgdMto5u/',\n",
       " 'https://www.instagram.com/p/CrjBnJZAu4B/',\n",
       " 'https://www.instagram.com/p/CrgV3ymSTP6/',\n",
       " 'https://www.instagram.com/p/Crd0WcZgAAf/',\n",
       " 'https://www.instagram.com/p/CrbFoAYAsus/',\n",
       " 'https://www.instagram.com/p/CrWFHw9gbdc/',\n",
       " 'https://www.instagram.com/p/CrTkrIRhxLK/',\n",
       " 'https://www.instagram.com/p/CrQ5C4FMVcz/',\n",
       " 'https://www.instagram.com/p/CrLxPHhA0Hg/',\n",
       " 'https://www.instagram.com/p/CrI823lsczY/',\n",
       " 'https://www.instagram.com/p/CrGlx8zsYlL/',\n",
       " 'https://www.instagram.com/p/CrEG6eggJgn/',\n",
       " 'https://www.instagram.com/p/CrBji-zpcOg/',\n",
       " 'https://www.instagram.com/p/Cq_2WgkpZma/',\n",
       " 'https://www.instagram.com/p/Cq8SwsCsfeJ/',\n",
       " 'https://www.instagram.com/p/Cq5u2VlMINx/',\n",
       " 'https://www.instagram.com/p/CqyGiBmMZV3/',\n",
       " 'https://www.instagram.com/p/CqtAE2AhWLW/',\n",
       " 'https://www.instagram.com/p/CqqROelSXSG/',\n",
       " 'https://www.instagram.com/p/Cqnsepst0Yq/',\n",
       " 'https://www.instagram.com/p/CqlOYnsyi_x/',\n",
       " 'https://www.instagram.com/p/CqdLXSxtMov/',\n",
       " 'https://www.instagram.com/p/CqbSLM3DdSQ/',\n",
       " 'https://www.instagram.com/p/CqYP_Dlgy2f/',\n",
       " 'https://www.instagram.com/p/CqVyyCMAzaf/',\n",
       " 'https://www.instagram.com/p/CqTM-JAAqhX/',\n",
       " 'https://www.instagram.com/p/CqN9ZtggLUi/',\n",
       " 'https://www.instagram.com/p/CqLUNYLpbiZ/',\n",
       " 'https://www.instagram.com/p/CqGbrL_u4w8/',\n",
       " 'https://www.instagram.com/p/CqFr3WwgCM-/',\n",
       " 'https://www.instagram.com/p/CqdLXSxtMov/',\n",
       " 'https://www.instagram.com/p/CqbSLM3DdSQ/',\n",
       " 'https://www.instagram.com/p/CqYP_Dlgy2f/',\n",
       " 'https://www.instagram.com/p/CqVyyCMAzaf/',\n",
       " 'https://www.instagram.com/p/CqTM-JAAqhX/',\n",
       " 'https://www.instagram.com/p/CqN9ZtggLUi/',\n",
       " 'https://www.instagram.com/p/CqLUNYLpbiZ/',\n",
       " 'https://www.instagram.com/p/CqGbrL_u4w8/',\n",
       " 'https://www.instagram.com/p/CqFr3WwgCM-/',\n",
       " 'https://www.instagram.com/p/CqEHQlvPru3/',\n",
       " 'https://www.instagram.com/p/CqDpO21MmcH/',\n",
       " 'https://www.instagram.com/p/Cp-N3WlDYqY/',\n",
       " 'https://www.instagram.com/p/Cp77a-5AH8L/',\n",
       " 'https://www.instagram.com/p/Cp5WGxbtmOX/',\n",
       " 'https://www.instagram.com/p/Cp2w959NThb/',\n",
       " 'https://www.instagram.com/p/Cp0MptKyzXS/',\n",
       " 'https://www.instagram.com/p/CpzwPMdPBlh/',\n",
       " 'https://www.instagram.com/p/CpxntFvB0fJ/',\n",
       " 'https://www.instagram.com/p/CpvA78_M5Va/',\n",
       " 'https://www.instagram.com/p/CpqIwQfguNj/',\n",
       " 'https://www.instagram.com/p/CpnbaEBsyb_/',\n",
       " 'https://www.instagram.com/p/CplWlPFsE-F/',\n",
       " 'https://www.instagram.com/p/Cpk256SpRs8/',\n",
       " 'https://www.instagram.com/p/CpiRzFXs58Y/',\n",
       " 'https://www.instagram.com/p/CpfzvGTNeJW/',\n",
       " 'https://www.instagram.com/p/CpdBiqHA_fH/',\n",
       " 'https://www.instagram.com/p/CpVaURHgEPb/',\n",
       " 'https://www.instagram.com/p/CpS1GeXSoft/',\n",
       " 'https://www.instagram.com/p/CpQQWFStjMN/',\n",
       " 'https://www.instagram.com/p/CpNrYifNe9c/']"
      ]
     },
     "execution_count": 202,
     "metadata": {},
     "output_type": "execute_result"
    }
   ],
   "source": [
    "list_links"
   ]
  },
  {
   "cell_type": "code",
   "execution_count": null,
   "id": "f585760f",
   "metadata": {},
   "outputs": [],
   "source": []
  }
 ],
 "metadata": {
  "kernelspec": {
   "display_name": "Python 3 (ipykernel)",
   "language": "python",
   "name": "python3"
  },
  "language_info": {
   "codemirror_mode": {
    "name": "ipython",
    "version": 3
   },
   "file_extension": ".py",
   "mimetype": "text/x-python",
   "name": "python",
   "nbconvert_exporter": "python",
   "pygments_lexer": "ipython3",
   "version": "3.8.16"
  }
 },
 "nbformat": 4,
 "nbformat_minor": 5
}
