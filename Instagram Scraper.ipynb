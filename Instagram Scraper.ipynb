{
 "cells": [
  {
   "cell_type": "code",
   "execution_count": 1,
   "id": "d3c3145b",
   "metadata": {},
   "outputs": [],
   "source": [
    "from selenium import webdriver\n",
    "from selenium.webdriver.common.keys import Keys\n",
    "from selenium.webdriver.common.by import By\n",
    "from selenium.webdriver.chrome.options import Options\n",
    "from selenium.webdriver.support.wait import WebDriverWait\n",
    "from selenium.webdriver.support import expected_conditions as EC\n",
    "from selenium.common.exceptions import NoSuchElementException\n",
    "from selenium.common.exceptions import NoSuchWindowException\n",
    "from selenium.common.exceptions import TimeoutException\n",
    "from selenium.common.exceptions import WebDriverException\n",
    "from selenium.common.exceptions import ElementNotInteractableException\n",
    "from selenium.common.exceptions import StaleElementReferenceException\n",
    "import requests\n",
    "from bs4 import BeautifulSoup\n",
    "import pandas as pd\n",
    "import numpy as np\n",
    "import time\n",
    "import random"
   ]
  },
  {
   "cell_type": "code",
   "execution_count": 50,
   "id": "6691560a",
   "metadata": {},
   "outputs": [],
   "source": [
    "import pickle"
   ]
  },
  {
   "cell_type": "code",
   "execution_count": 29,
   "id": "6db4f646",
   "metadata": {},
   "outputs": [],
   "source": [
    "# Example we are trying to scrape text from the blow url. Because Instagram\n",
    "# requires login we suggest that you auto login using chrome and then use chrome user data\n",
    "# as an argument to load the chrome browser\n",
    "# The browser is fully loaded and viewable to the user as this is not a fully automated scraper\n",
    "# Close any open chrome browser before running or an error is thrown\n",
    "url = 'https://www.instagram.com/eggsoeufs/'\n",
    "options = webdriver.ChromeOptions()\n",
    "options.add_argument(r\"--user-data-dir=C:\\Users\\alexe\\AppData\\Local\\Google\\Chrome\\User Data\")\n",
    "options.add_argument(r'--profile-directory=Default')\n",
    "driver = webdriver.Chrome(executable_path=r\"chromedriver.exe\", options=options)\n",
    "driver.get(url)"
   ]
  },
  {
   "cell_type": "code",
   "execution_count": 14,
   "id": "fa8499d2",
   "metadata": {},
   "outputs": [],
   "source": [
    "#Using proxy to get to site. Will have to add code to wait until page is loaded to continue\n",
    "proxy_server_url = \"64.226.113.167:8080\"\n",
    "url = 'https://www.instagram.com/eggsoeufs/'\n",
    "options = webdriver.ChromeOptions()\n",
    "options.add_argument(r\"--user-data-dir=C:\\Users\\alexe\\AppData\\Local\\Google\\Chrome\\User Data\")\n",
    "options.add_argument(r'--profile-directory=Default')\n",
    "options.add_argument(f'--proxy-server={proxy_server_url}')\n",
    "driver = webdriver.Chrome(executable_path=r\"chromedriver.exe\", options=options)\n",
    "driver.get(url)"
   ]
  },
  {
   "cell_type": "code",
   "execution_count": 118,
   "id": "1f61220e",
   "metadata": {},
   "outputs": [],
   "source": [
    "driver.execute_script(\"window.scrollTo(0, document.body.scrollHeight);\")"
   ]
  },
  {
   "cell_type": "code",
   "execution_count": 30,
   "id": "837c16ec",
   "metadata": {},
   "outputs": [
    {
     "name": "stdout",
     "output_type": "stream",
     "text": [
      "148057\n",
      "858057\n"
     ]
    }
   ],
   "source": [
    "# We will auto scroll until either we can't scroll anymore or the number of iterations of the scroll\n",
    "# reaches 0 based on the count value. Thus if the page has a large number of inputs we will not be able\n",
    "# to save everything.\n",
    "# Since we are trying to get the text of the images we are collecting the links and storing them in list_links\n",
    "last_height = driver.execute_script(\"return document.body.scrollHeight\")\n",
    "boolScroll = True\n",
    "count = 200\n",
    "set_links = set()\n",
    "while (boolScroll) and (count > 0):\n",
    "    driver.execute_script(\"window.scrollTo(0, document.body.scrollHeight);\")\n",
    "    count = count - 1\n",
    "    temp = driver.find_elements(By.XPATH,\"//div[@class='_aabd _aa8k  _al3l']\")\n",
    "    for item in temp:\n",
    "        try:\n",
    "            temp1 = item.find_element(By.TAG_NAME, 'a')\n",
    "            set_links.add(temp1.get_attribute('href'))\n",
    "        except StaleElementReferenceException as Exception:\n",
    "            time.sleep(0.5)\n",
    "    time.sleep(7)\n",
    "    new_height = driver.execute_script(\"return document.body.scrollHeight\")\n",
    "    if new_height == last_height:\n",
    "        boolScroll = False\n",
    "        print(new_height)\n",
    "    else:\n",
    "        last_height = new_height\n",
    "    print(last_height, end=\"\\r\")\n",
    "driver.quit()\n",
    "print(count)"
   ]
  },
  {
   "cell_type": "code",
   "execution_count": 87,
   "id": "9b932406",
   "metadata": {},
   "outputs": [
    {
     "name": "stdout",
     "output_type": "stream",
     "text": [
      "587 82\n"
     ]
    }
   ],
   "source": [
    "print(len(set_links), count)"
   ]
  },
  {
   "cell_type": "code",
   "execution_count": 78,
   "id": "a251ecc3",
   "metadata": {},
   "outputs": [],
   "source": [
    "df = pd.DataFrame(columns = ['Date', 'Text', 'Poster', 'Likes', 'MultiMedia'])"
   ]
  },
  {
   "cell_type": "code",
   "execution_count": 79,
   "id": "ed62bc3b",
   "metadata": {},
   "outputs": [
    {
     "name": "stdout",
     "output_type": "stream",
     "text": [
      "Message: no such element: Unable to locate element: {\"method\":\"xpath\",\"selector\":\"//div[@class='_aagv']/img\"}\n",
      "  (Session info: chrome=113.0.5672.127)\n",
      "\n",
      "Page https://www.instagram.com/p/Ckld0F2AHLm/ failed for some reason. Exiting\n",
      "82\r"
     ]
    },
    {
     "ename": "KeyboardInterrupt",
     "evalue": "",
     "output_type": "error",
     "traceback": [
      "\u001b[1;31m---------------------------------------------------------------------------\u001b[0m",
      "\u001b[1;31mKeyboardInterrupt\u001b[0m                         Traceback (most recent call last)",
      "Cell \u001b[1;32mIn[79], line 20\u001b[0m\n\u001b[0;32m     18\u001b[0m \u001b[38;5;28;01mtry\u001b[39;00m:\n\u001b[0;32m     19\u001b[0m     driver\u001b[38;5;241m.\u001b[39mget(link)\n\u001b[1;32m---> 20\u001b[0m     \u001b[43mtime\u001b[49m\u001b[38;5;241;43m.\u001b[39;49m\u001b[43msleep\u001b[49m\u001b[43m(\u001b[49m\u001b[43mintTimeout\u001b[49m\u001b[43m)\u001b[49m\n\u001b[0;32m     21\u001b[0m     date \u001b[38;5;241m=\u001b[39m driver\u001b[38;5;241m.\u001b[39mfind_element(By\u001b[38;5;241m.\u001b[39mXPATH,\u001b[38;5;124m\"\u001b[39m\u001b[38;5;124m//time[@class=\u001b[39m\u001b[38;5;124m'\u001b[39m\u001b[38;5;124m_aaqe\u001b[39m\u001b[38;5;124m'\u001b[39m\u001b[38;5;124m]\u001b[39m\u001b[38;5;124m\"\u001b[39m)\u001b[38;5;241m.\u001b[39mget_attribute(\u001b[38;5;124m\"\u001b[39m\u001b[38;5;124mtitle\u001b[39m\u001b[38;5;124m\"\u001b[39m)\n\u001b[0;32m     22\u001b[0m     text \u001b[38;5;241m=\u001b[39m driver\u001b[38;5;241m.\u001b[39mfind_element(By\u001b[38;5;241m.\u001b[39mXPATH, \u001b[38;5;124m\"\u001b[39m\u001b[38;5;124m//h1[@class=\u001b[39m\u001b[38;5;124m'\u001b[39m\u001b[38;5;124m_aacl _aaco _aacu _aacx _aad7 _aade\u001b[39m\u001b[38;5;124m'\u001b[39m\u001b[38;5;124m]\u001b[39m\u001b[38;5;124m\"\u001b[39m)\u001b[38;5;241m.\u001b[39mtext\n",
      "\u001b[1;31mKeyboardInterrupt\u001b[0m: "
     ]
    }
   ],
   "source": [
    "options = webdriver.ChromeOptions()\n",
    "options.add_argument(r\"--user-data-dir=C:\\Users\\alexe\\AppData\\Local\\Google\\Chrome\\User Data\")\n",
    "options.add_argument(r'--profile-directory=Default')\n",
    "driver = webdriver.Chrome(executable_path=r\"chromedriver.exe\", options=options)\n",
    "lst_timeout = np.arange(7,20,1)\n",
    "lst_failed = []\n",
    "lst_group_timeout = np.arange(180,240,1)\n",
    "intTimeout = 0\n",
    "count = 0\n",
    "for l in range(len(set_links)):\n",
    "    count += 1\n",
    "    print(count, end=\"\\r\")\n",
    "    link = set_links.pop()\n",
    "    if count%15 == 0:\n",
    "        intTimeout = lst_group_timeout[random.randint(0,len(lst_group_timeout)-1)]\n",
    "    else:\n",
    "        intTimeout = lst_timeout[random.randint(0, len(lst_timeout)-1)]\n",
    "    try:\n",
    "        driver.get(link)\n",
    "        time.sleep(intTimeout)\n",
    "        date = driver.find_element(By.XPATH,\"//time[@class='_aaqe']\").get_attribute(\"title\")\n",
    "        text = driver.find_element(By.XPATH, \"//h1[@class='_aacl _aaco _aacu _aacx _aad7 _aade']\").text\n",
    "        by = driver.find_element(By.XPATH, \"//div[@class='xt0psk2']\").text\n",
    "        mm_link = driver.find_element(By.XPATH, \"//div[@class='_aagv']/img\").get_attribute('src')\n",
    "        try:\n",
    "            likes = driver.find_element(\n",
    "                By.XPATH,\"//span[@class='x193iq5w xeuugli x1fj9vlw x13faqbe x1vvkbs xt0psk2 x1i0vuye xvs91rp x1s688f x5n08af x10wh9bi x1wdrske x8viiok x18hxmgj']\").text\n",
    "            likes = likes.replace(\" likes\", \"\")\n",
    "        except NoSuchElementException as nse:\n",
    "            likes = 0\n",
    "            \n",
    "        df_temp = pd.DataFrame({'Date' : [date], 'Text' : [text], 'Poster' : [by], 'Likes': [likes],\n",
    "                                'MultiMedia' : [mm_link]})\n",
    "        df = pd.concat([df,df_temp])\n",
    "    except Exception as e:\n",
    "        print(e)\n",
    "        print(\"Page {} failed for some reason. Exiting\".format(link))\n",
    "        lst_failed.append(link)\n",
    "        continue\n",
    "driver.quit()\n",
    "df.shape"
   ]
  },
  {
   "cell_type": "code",
   "execution_count": 17,
   "id": "d43065dc",
   "metadata": {},
   "outputs": [
    {
     "name": "stdout",
     "output_type": "stream",
     "text": [
      "Page https://www.instagram.com/p/Ch-GEDvg3TK/ failed because Message: no such window: target window already closed\n",
      "from unknown error: web view not found\n",
      "  (Session info: chrome=113.0.5672.94)\n",
      "\n",
      "Page https://www.instagram.com/p/B87JuPnFxiT/ failed because Message: no such window: target window already closed\n",
      "from unknown error: web view not found\n",
      "  (Session info: chrome=113.0.5672.94)\n",
      "\n"
     ]
    },
    {
     "data": {
      "text/plain": [
       "(1, 5)"
      ]
     },
     "execution_count": 17,
     "metadata": {},
     "output_type": "execute_result"
    }
   ],
   "source": [
    "# Use this code only if proxy is required\n",
    "proxy_server_url = \"64.226.113.167:8080\"\n",
    "options = webdriver.ChromeOptions()\n",
    "options.add_argument(r\"--user-data-dir=C:\\Users\\alexe\\AppData\\Local\\Google\\Chrome\\User Data\")\n",
    "options.add_argument(r'--profile-directory=Default')\n",
    "#options.add_argument(f'--proxy-server={proxy_server_url}')\n",
    "driver = webdriver.Chrome(executable_path=r\"chromedriver.exe\", options=options)\n",
    "df = pd.DataFrame(columns = ['Title', 'Date', 'Text', 'Poster', 'MultiMedia'])\n",
    "lst_failed = []\n",
    "intTimeout = 30\n",
    "intWait = 10\n",
    "set_links = (\"https://www.instagram.com/p/CWtZi5igaY4/\", \"https://www.instagram.com/p/Ch-GEDvg3TK/\",\n",
    "            \"https://www.instagram.com/p/B87JuPnFxiT/\")\n",
    "count = 0\n",
    "for link in set_links:\n",
    "    count += 1\n",
    "    \n",
    "    try:\n",
    "        driver.get(link)\n",
    "        time.sleep(intWait)\n",
    "        elem = WebDriverWait(driver, intTimeout).until(EC.presence_of_element_located((By.XPATH, \n",
    "                                                                               \"//time[@class='_aaqe']\")))\n",
    "        title = elem.get_attribute(\"title\")\n",
    "        #title = driver.find_element(By.XPATH, \"//time[@class='_aaqe']\").get_attribute(\"title\")\n",
    "        elem = WebDriverWait(driver, intTimeout).until(EC.presence_of_element_located((By.XPATH, \n",
    "                                                                               \"//time[@class='_aaqe']\")))\n",
    "        date = elem.get_attribute(\"title\")\n",
    "        #date = driver.find_element(By.XPATH,\"//time[@class='_aaqe']\").get_attribute(\"title\")\n",
    "        elem = WebDriverWait(driver, intTimeout).until(\n",
    "            EC.presence_of_element_located((By.XPATH, \n",
    "                                            \"//h1[@class='_aacl _aaco _aacu _aacx _aad7 _aade']\")))\n",
    "        text = elem.text\n",
    "        #text = driver.find_element(By.XPATH, \"//h1[@class='_aacl _aaco _aacu _aacx _aad7 _aade']\").text\n",
    "        elem = WebDriverWait(driver, intTimeout).until(\n",
    "            EC.presence_of_element_located((By.XPATH, \n",
    "                                            \"//div[@class='xt0psk2']\")))\n",
    "        by = elem.text\n",
    "        #by = driver.find_element(By.XPATH, \"//div[@class='xt0psk2']\").text\n",
    "        elem = WebDriverWait(driver, intTimeout).until(\n",
    "            EC.presence_of_element_located((By.XPATH, \n",
    "                                            \"//div[@class='_aagv']/img\")))\n",
    "        mm_link = elem.get_attribute('src')\n",
    "        #mm_link = driver.find_element(By.XPATH, \"//div[@class='_aagv']/img\").get_attribute('src')\n",
    "        df_temp = pd.DataFrame({'Title' : [title], 'Date' : [date], 'Text' : [text], 'Poster' : [by], \n",
    "                                'MultiMedia' : [mm_link]})\n",
    "        df = pd.concat([df,df_temp])\n",
    "    except Exception as e:\n",
    "        print(\"Page {} failed because {}\".format(link, e))\n",
    "        lst_failed.append(link)\n",
    "        continue\n",
    "    print(count, end=\"\\r\")\n",
    "df.shape"
   ]
  },
  {
   "cell_type": "code",
   "execution_count": 80,
   "id": "99449bb9",
   "metadata": {},
   "outputs": [
    {
     "data": {
      "text/plain": [
       "(586, 1)"
      ]
     },
     "execution_count": 80,
     "metadata": {},
     "output_type": "execute_result"
    }
   ],
   "source": [
    "len(set_links), len(lst_failed)"
   ]
  },
  {
   "cell_type": "code",
   "execution_count": 81,
   "id": "194bf208",
   "metadata": {},
   "outputs": [
    {
     "data": {
      "text/plain": [
       "587"
      ]
     },
     "execution_count": 81,
     "metadata": {},
     "output_type": "execute_result"
    }
   ],
   "source": [
    "set_links.update(lst_failed)\n",
    "len(set_links)"
   ]
  },
  {
   "cell_type": "code",
   "execution_count": 82,
   "id": "1863d51e",
   "metadata": {},
   "outputs": [],
   "source": [
    "with open('set_links.txt','wb') as f:\n",
    "    pickle.dump(set_links, f)"
   ]
  },
  {
   "cell_type": "code",
   "execution_count": 83,
   "id": "ce3324b9",
   "metadata": {},
   "outputs": [],
   "source": [
    "df.to_csv(\"Partial.csv\",mode='a', header=False, index=False)"
   ]
  },
  {
   "cell_type": "code",
   "execution_count": 86,
   "id": "37fb5b1a",
   "metadata": {},
   "outputs": [
    {
     "data": {
      "text/html": [
       "<div>\n",
       "<style scoped>\n",
       "    .dataframe tbody tr th:only-of-type {\n",
       "        vertical-align: middle;\n",
       "    }\n",
       "\n",
       "    .dataframe tbody tr th {\n",
       "        vertical-align: top;\n",
       "    }\n",
       "\n",
       "    .dataframe thead th {\n",
       "        text-align: right;\n",
       "    }\n",
       "</style>\n",
       "<table border=\"1\" class=\"dataframe\">\n",
       "  <thead>\n",
       "    <tr style=\"text-align: right;\">\n",
       "      <th></th>\n",
       "      <th>Date</th>\n",
       "      <th>Text</th>\n",
       "      <th>Poster</th>\n",
       "      <th>Likes</th>\n",
       "      <th>MultiMedia</th>\n",
       "    </tr>\n",
       "  </thead>\n",
       "  <tbody>\n",
       "    <tr>\n",
       "      <th>0</th>\n",
       "      <td>Sep 8, 2016</td>\n",
       "      <td>Sweet or savoury? How about both! Get this rec...</td>\n",
       "      <td>eggsoeufs</td>\n",
       "      <td>44</td>\n",
       "      <td>https://scontent.cdninstagram.com/v/t51.2885-1...</td>\n",
       "    </tr>\n",
       "    <tr>\n",
       "      <th>0</th>\n",
       "      <td>Oct 22, 2018</td>\n",
       "      <td>Who said meal prep was just for lunch? Soft Bo...</td>\n",
       "      <td>eggsoeufs</td>\n",
       "      <td>1,665</td>\n",
       "      <td>https://scontent.cdninstagram.com/v/t51.2885-1...</td>\n",
       "    </tr>\n",
       "    <tr>\n",
       "      <th>0</th>\n",
       "      <td>Feb 2, 2017</td>\n",
       "      <td>This one’s for you, #WiartonWillie! Happy Grou...</td>\n",
       "      <td>eggsoeufs</td>\n",
       "      <td>95</td>\n",
       "      <td>https://scontent.cdninstagram.com/v/t51.2885-1...</td>\n",
       "    </tr>\n",
       "    <tr>\n",
       "      <th>0</th>\n",
       "      <td>Feb 7, 2022</td>\n",
       "      <td>Turn your poached eggs into a success with the...</td>\n",
       "      <td>eggsoeufs</td>\n",
       "      <td>151</td>\n",
       "      <td>https://instagram.fymq2-1.fna.fbcdn.net/v/t51....</td>\n",
       "    </tr>\n",
       "    <tr>\n",
       "      <th>0</th>\n",
       "      <td>Apr 27, 2016</td>\n",
       "      <td>@ShawnMendes has been cracking out one hit alb...</td>\n",
       "      <td>eggsoeufs</td>\n",
       "      <td>47</td>\n",
       "      <td>https://scontent.cdninstagram.com/v/t51.2885-1...</td>\n",
       "    </tr>\n",
       "  </tbody>\n",
       "</table>\n",
       "</div>"
      ],
      "text/plain": [
       "           Date                                               Text     Poster  \\\n",
       "0   Sep 8, 2016  Sweet or savoury? How about both! Get this rec...  eggsoeufs   \n",
       "0  Oct 22, 2018  Who said meal prep was just for lunch? Soft Bo...  eggsoeufs   \n",
       "0   Feb 2, 2017  This one’s for you, #WiartonWillie! Happy Grou...  eggsoeufs   \n",
       "0   Feb 7, 2022  Turn your poached eggs into a success with the...  eggsoeufs   \n",
       "0  Apr 27, 2016  @ShawnMendes has been cracking out one hit alb...  eggsoeufs   \n",
       "\n",
       "   Likes                                         MultiMedia  \n",
       "0     44  https://scontent.cdninstagram.com/v/t51.2885-1...  \n",
       "0  1,665  https://scontent.cdninstagram.com/v/t51.2885-1...  \n",
       "0     95  https://scontent.cdninstagram.com/v/t51.2885-1...  \n",
       "0    151  https://instagram.fymq2-1.fna.fbcdn.net/v/t51....  \n",
       "0     47  https://scontent.cdninstagram.com/v/t51.2885-1...  "
      ]
     },
     "execution_count": 86,
     "metadata": {},
     "output_type": "execute_result"
    }
   ],
   "source": [
    "df.head()"
   ]
  },
  {
   "cell_type": "code",
   "execution_count": 85,
   "id": "567c3aa1",
   "metadata": {},
   "outputs": [
    {
     "data": {
      "text/plain": [
       "(80, 5)"
      ]
     },
     "execution_count": 85,
     "metadata": {},
     "output_type": "execute_result"
    }
   ],
   "source": [
    "df.shape"
   ]
  },
  {
   "cell_type": "code",
   "execution_count": 23,
   "id": "f3ec43be",
   "metadata": {},
   "outputs": [],
   "source": [
    "driver.get(list(set_links)[-1])"
   ]
  },
  {
   "cell_type": "code",
   "execution_count": 24,
   "id": "f00e3050",
   "metadata": {},
   "outputs": [
    {
     "data": {
      "text/plain": [
       "'Aug 12, 2022'"
      ]
     },
     "execution_count": 24,
     "metadata": {},
     "output_type": "execute_result"
    }
   ],
   "source": [
    "driver.find_element(By.XPATH,\"//time[@class='_aaqe']\").get_attribute(\"title\")"
   ]
  },
  {
   "cell_type": "code",
   "execution_count": 25,
   "id": "69494af6",
   "metadata": {},
   "outputs": [
    {
     "data": {
      "text/plain": [
       "'My weekends are truly not complete without #BrunchTime🍳 and my brunch meal staple is ALWAY EGGS 🍳. #ad I love all the creative ways our local restaurants use eggs in their menus, from a good old-fashioned classic breakfast to an unforgettable brunch bowl egg-sperience. Here are some of my favourite local spots featuring egg-ceptional egg dishes that you need to check out:\\n\\n🥚 Classic Breakfast from @bluestar_yyc\\n\\n🥚Bagel Forestiere from @oeb_breakfast\\n\\n🥚Truffle bacon mushroom bowl and Duck Confit Monte Cristo from @namoyyc\\n\\n🥚Bird nest from @zcrewcafe\\n\\nLet me know your favourite brunch spot in Calgary! @eggsoeufs #EggsAnytime #LocalLove'"
      ]
     },
     "execution_count": 25,
     "metadata": {},
     "output_type": "execute_result"
    }
   ],
   "source": [
    "driver.find_element(By.XPATH, \"//h1[@class='_aacl _aaco _aacu _aacx _aad7 _aade']\").text"
   ]
  },
  {
   "cell_type": "code",
   "execution_count": 26,
   "id": "94a06d6d",
   "metadata": {},
   "outputs": [
    {
     "data": {
      "text/plain": [
       "'rachelhaneats'"
      ]
     },
     "execution_count": 26,
     "metadata": {},
     "output_type": "execute_result"
    }
   ],
   "source": [
    "driver.find_element(By.XPATH, \"//div[@class='xt0psk2']\").text"
   ]
  },
  {
   "cell_type": "code",
   "execution_count": 27,
   "id": "0c5e72cc",
   "metadata": {},
   "outputs": [
    {
     "data": {
      "text/plain": [
       "'https://scontent.cdninstagram.com/v/t51.2885-15/298670680_610408290444642_6670465811055762567_n.jpg?stp=dst-jpg_e35&_nc_ht=scontent.cdninstagram.com&_nc_cat=106&_nc_ohc=GG5oz4w6OhsAX_yZklV&edm=APs17CUBAAAA&ccb=7-5&ig_cache_key=MjkwMzQwNjMzMDYyODcyMDM4Mg%3D%3D.2-ccb7-5&oh=00_AfDhg1fDDiA1tizvKV_NNGp_QkvIG5X71Hawd2FG_2k21w&oe=6466866E&_nc_sid=978cb9'"
      ]
     },
     "execution_count": 27,
     "metadata": {},
     "output_type": "execute_result"
    }
   ],
   "source": [
    "driver.find_element(By.XPATH, \"//div[@class='_aagv']/img\").get_attribute('src')"
   ]
  },
  {
   "cell_type": "code",
   "execution_count": null,
   "id": "60507ddd",
   "metadata": {},
   "outputs": [],
   "source": []
  }
 ],
 "metadata": {
  "kernelspec": {
   "display_name": "Python 3 (ipykernel)",
   "language": "python",
   "name": "python3"
  },
  "language_info": {
   "codemirror_mode": {
    "name": "ipython",
    "version": 3
   },
   "file_extension": ".py",
   "mimetype": "text/x-python",
   "name": "python",
   "nbconvert_exporter": "python",
   "pygments_lexer": "ipython3",
   "version": "3.8.16"
  }
 },
 "nbformat": 4,
 "nbformat_minor": 5
}
