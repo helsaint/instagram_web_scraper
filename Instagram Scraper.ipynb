{
 "cells": [
  {
   "cell_type": "code",
   "execution_count": 185,
   "id": "d3c3145b",
   "metadata": {},
   "outputs": [],
   "source": [
    "from selenium import webdriver\n",
    "from selenium.webdriver.common.keys import Keys\n",
    "from selenium.webdriver.common.by import By\n",
    "from selenium.webdriver.chrome.options import Options\n",
    "from selenium.webdriver.support.wait import WebDriverWait\n",
    "from selenium.webdriver.support import expected_conditions as EC\n",
    "from selenium.common.exceptions import NoSuchElementException\n",
    "from selenium.common.exceptions import NoSuchWindowException\n",
    "from selenium.common.exceptions import TimeoutException\n",
    "from selenium.common.exceptions import WebDriverException\n",
    "from selenium.common.exceptions import ElementNotInteractableException\n",
    "from selenium.common.exceptions import StaleElementReferenceException\n",
    "import requests\n",
    "from bs4 import BeautifulSoup\n",
    "import pandas as pd\n",
    "import numpy as np"
   ]
  },
  {
   "cell_type": "code",
   "execution_count": 120,
   "id": "f8d91d87",
   "metadata": {},
   "outputs": [],
   "source": [
    "import time"
   ]
  },
  {
   "cell_type": "code",
   "execution_count": 216,
   "id": "6db4f646",
   "metadata": {},
   "outputs": [],
   "source": [
    "# Example we are trying to scrape text from the blow url. Because Instagram\n",
    "# requires login we suggest that you auto login using chrome and then use chrome user data\n",
    "# as an argument to load the chrome browser\n",
    "# The browser is fully loaded and viewable to the user as this is not a fully automated scraper\n",
    "url = 'https://www.instagram.com/eggsoeufs/'\n",
    "options = webdriver.ChromeOptions()\n",
    "options.add_argument(r\"--user-data-dir=C:\\Users\\alexe\\AppData\\Local\\Google\\Chrome\\User Data\")\n",
    "options.add_argument(r'--profile-directory=Default')\n",
    "driver = webdriver.Chrome(executable_path=r\"chromedriver.exe\", options=options)\n",
    "driver.get(url)"
   ]
  },
  {
   "cell_type": "code",
   "execution_count": 118,
   "id": "1f61220e",
   "metadata": {},
   "outputs": [],
   "source": [
    "driver.execute_script(\"window.scrollTo(0, document.body.scrollHeight);\")"
   ]
  },
  {
   "cell_type": "code",
   "execution_count": 217,
   "id": "837c16ec",
   "metadata": {},
   "outputs": [
    {
     "name": "stdout",
     "output_type": "stream",
     "text": [
      "4195\n",
      "5447\n",
      "7638\n",
      "8890\n"
     ]
    }
   ],
   "source": [
    "# We will auto scroll until either we can't scroll anymore or the number of iterations of the scroll\n",
    "# reaches 0 based on the count value. Thus if the page has a large number of inputs we will not be able\n",
    "# to save everything.\n",
    "# Since we are trying to get the text of the images we are collecting the links and storing them in list_links\n",
    "last_height = driver.execute_script(\"return document.body.scrollHeight\")\n",
    "boolScroll = True\n",
    "count = 4\n",
    "set_links = set()\n",
    "while (boolScroll) and (count > 0):\n",
    "    driver.execute_script(\"window.scrollTo(0, document.body.scrollHeight);\")\n",
    "    count = count - 1\n",
    "    temp = driver.find_elements(By.XPATH,\"//div[@class='_aabd _aa8k  _al3l']\")\n",
    "    for item in temp:\n",
    "        try:\n",
    "            temp1 = item.find_element(By.TAG_NAME, 'a')\n",
    "            set_links.add(temp1.get_attribute('href'))\n",
    "        except StaleElementReferenceException as Exception:\n",
    "            print(\"error\")\n",
    "    time.sleep(7)\n",
    "    new_height = driver.execute_script(\"return document.body.scrollHeight\")\n",
    "    if new_height == last_height:\n",
    "        boolScroll = False\n",
    "        print(new_height)\n",
    "    else:\n",
    "        last_height = new_height\n",
    "    print(last_height)"
   ]
  },
  {
   "cell_type": "code",
   "execution_count": 218,
   "id": "9b932406",
   "metadata": {},
   "outputs": [
    {
     "name": "stdout",
     "output_type": "stream",
     "text": [
      "66 {'https://www.instagram.com/p/CrLxPHhA0Hg/', 'https://www.instagram.com/p/CqbSLM3DdSQ/', 'https://www.instagram.com/p/CpS1GeXSoft/', 'https://www.instagram.com/p/CpzwPMdPBlh/', 'https://www.instagram.com/p/CrbFoAYAsus/', 'https://www.instagram.com/p/CpVaURHgEPb/', 'https://www.instagram.com/p/CsGWGbzgQLB/', 'https://www.instagram.com/p/Cq5u2VlMINx/', 'https://www.instagram.com/p/CpQQWFStjMN/', 'https://www.instagram.com/p/CrEG6eggJgn/', 'https://www.instagram.com/p/Cp77a-5AH8L/', 'https://www.instagram.com/p/Crd0WcZgAAf/', 'https://www.instagram.com/p/CqBGhyKgJVs/', 'https://www.instagram.com/p/CqdLXSxtMov/', 'https://www.instagram.com/p/CpqIwQfguNj/', 'https://www.instagram.com/p/CsJiqAZghe1/', 'https://www.instagram.com/p/CsB0mAFgZeO/', 'https://www.instagram.com/p/CrGlx8zsYlL/', 'https://www.instagram.com/p/Cp0MptKyzXS/', 'https://www.instagram.com/p/Cp2w959NThb/', 'https://www.instagram.com/p/CpxntFvB0fJ/', 'https://www.instagram.com/p/CqN9ZtggLUi/', 'https://www.instagram.com/p/CqGbrL_u4w8/', 'https://www.instagram.com/p/CqDpO21MmcH/', 'https://www.instagram.com/p/Cr38xpyOjRI/', 'https://www.instagram.com/p/Cq0kr_7A9Dp/', 'https://www.instagram.com/p/CqLUNYLpbiZ/', 'https://www.instagram.com/p/CrvlPAutHrD/', 'https://www.instagram.com/p/CpNrYifNe9c/', 'https://www.instagram.com/p/CplWlPFsE-F/', 'https://www.instagram.com/p/CqFr3WwgCM-/', 'https://www.instagram.com/p/CqTM-JAAqhX/', 'https://www.instagram.com/p/CrWFHw9gbdc/', 'https://www.instagram.com/p/Cq_2WgkpZma/', 'https://www.instagram.com/p/CroMmznAJZA/', 'https://www.instagram.com/p/Cr3TLqaMk3H/', 'https://www.instagram.com/p/CrI823lsczY/', 'https://www.instagram.com/p/CqEHQlvPru3/', 'https://www.instagram.com/p/Cp-N3WlDYqY/', 'https://www.instagram.com/p/CrTkrIRhxLK/', 'https://www.instagram.com/p/CrOUuNXArA2/', 'https://www.instagram.com/p/CpiRzFXs58Y/', 'https://www.instagram.com/p/CqVyyCMAzaf/', 'https://www.instagram.com/p/CqyGiBmMZV3/', 'https://www.instagram.com/p/Cr08Ou5s2qT/', 'https://www.instagram.com/p/CqtAE2AhWLW/', 'https://www.instagram.com/p/CqlOYnsyi_x/', 'https://www.instagram.com/p/CrtZmU2g-s0/', 'https://www.instagram.com/p/CpfzvGTNeJW/', 'https://www.instagram.com/p/CrlfgdMto5u/', 'https://www.instagram.com/p/CrgV3ymSTP6/', 'https://www.instagram.com/p/Cq8SwsCsfeJ/', 'https://www.instagram.com/p/Cqnsepst0Yq/', 'https://www.instagram.com/p/CqYP_Dlgy2f/', 'https://www.instagram.com/p/CrQ5C4FMVcz/', 'https://www.instagram.com/p/Cp5WGxbtmOX/', 'https://www.instagram.com/p/CpdBiqHA_fH/', 'https://www.instagram.com/p/CrBji-zpcOg/', 'https://www.instagram.com/p/Cr5VjgNs14w/', 'https://www.instagram.com/p/Cr8X5sOOpBN/', 'https://www.instagram.com/p/CryXx9nMaPz/', 'https://www.instagram.com/p/Cpk256SpRs8/', 'https://www.instagram.com/p/CqqROelSXSG/', 'https://www.instagram.com/p/CpnbaEBsyb_/', 'https://www.instagram.com/p/CrjBnJZAu4B/', 'https://www.instagram.com/p/CpvA78_M5Va/'}\n"
     ]
    }
   ],
   "source": [
    "print(len(set_links), set_links)"
   ]
  },
  {
   "cell_type": "code",
   "execution_count": 230,
   "id": "f3ec43be",
   "metadata": {},
   "outputs": [],
   "source": [
    "driver.get(list(set_links)[1])"
   ]
  },
  {
   "cell_type": "code",
   "execution_count": 231,
   "id": "f00e3050",
   "metadata": {},
   "outputs": [
    {
     "data": {
      "text/plain": [
       "'Mar 30, 2023'"
      ]
     },
     "execution_count": 231,
     "metadata": {},
     "output_type": "execute_result"
    }
   ],
   "source": [
    "driver.find_element(By.XPATH,\"//time[@class='_aaqe']\").get_attribute(\"title\")"
   ]
  },
  {
   "cell_type": "code",
   "execution_count": 232,
   "id": "69494af6",
   "metadata": {},
   "outputs": [
    {
     "data": {
      "text/plain": [
       "'Here’s one nutrient you didn’t know you needed!\\n\\nCholine is an essential nutrient.\\n\\n🧫It helps create the structure and communication systems between our cells,\\n🏃🏽\\u200d♀️It’s important in metabolism and nervous system function,\\n🧠It’s also linked to mood, memory, and brain development. Making it super important throughout pregnancy.\\n\\nOur bodies don’t make enough. So we need it in our diet 🍽️\\n\\nFood sources of choline include:\\n\\n🥦Broccoli - 17 mg in 1 cup\\n🍚Quinoa - 46 mg in 1 cup\\n\\U0001fad8Soybeans - 86 mg in 1 cup\\n🐟Fish - 187 mg in 3 oz of salmon\\n🥚Eggs - 294 mg in 2 eggs\\n\\nYou need between 425 and 550 mg of choline per day. So just two eggs provides about 75% of your daily choline needs.\\n\\nBut the goods are in the yolk! 🍳\\n\\nSo next time, pass up the egg white omelette for one that uses the whole egg.\\n\\nWhat’s your favourite way to eat eggs? ⬇️\\n\\nAD | #eggsanytime #nutritionmonth #choline #mentalhealthmatters #adhdnutrition #adhddiet #adhd #proteinmeal #healthyfoods #brainhealth #neurodivergent #adhdmom'"
      ]
     },
     "execution_count": 232,
     "metadata": {},
     "output_type": "execute_result"
    }
   ],
   "source": [
    "driver.find_element(By.XPATH, \"//h1[@class='_aacl _aaco _aacu _aacx _aad7 _aade']\").text"
   ]
  },
  {
   "cell_type": "code",
   "execution_count": null,
   "id": "94a06d6d",
   "metadata": {},
   "outputs": [],
   "source": []
  }
 ],
 "metadata": {
  "kernelspec": {
   "display_name": "Python 3 (ipykernel)",
   "language": "python",
   "name": "python3"
  },
  "language_info": {
   "codemirror_mode": {
    "name": "ipython",
    "version": 3
   },
   "file_extension": ".py",
   "mimetype": "text/x-python",
   "name": "python",
   "nbconvert_exporter": "python",
   "pygments_lexer": "ipython3",
   "version": "3.8.16"
  }
 },
 "nbformat": 4,
 "nbformat_minor": 5
}
