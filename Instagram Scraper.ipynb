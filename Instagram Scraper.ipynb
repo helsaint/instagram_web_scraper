{
 "cells": [
  {
   "cell_type": "code",
   "execution_count": 1,
   "id": "d3c3145b",
   "metadata": {},
   "outputs": [],
   "source": [
    "from selenium import webdriver\n",
    "from selenium.webdriver.common.keys import Keys\n",
    "from selenium.webdriver.common.by import By\n",
    "from selenium.webdriver.chrome.options import Options\n",
    "from selenium.webdriver.support.wait import WebDriverWait\n",
    "from selenium.webdriver.support import expected_conditions as EC\n",
    "from selenium.common.exceptions import NoSuchElementException\n",
    "from selenium.common.exceptions import NoSuchWindowException\n",
    "from selenium.common.exceptions import TimeoutException\n",
    "from selenium.common.exceptions import WebDriverException\n",
    "from selenium.common.exceptions import ElementNotInteractableException\n",
    "from selenium.common.exceptions import StaleElementReferenceException\n",
    "import requests\n",
    "from bs4 import BeautifulSoup\n",
    "import pandas as pd\n",
    "import numpy as np"
   ]
  },
  {
   "cell_type": "code",
   "execution_count": 2,
   "id": "f8d91d87",
   "metadata": {},
   "outputs": [],
   "source": [
    "import time"
   ]
  },
  {
   "cell_type": "code",
   "execution_count": 20,
   "id": "6db4f646",
   "metadata": {},
   "outputs": [],
   "source": [
    "# Example we are trying to scrape text from the blow url. Because Instagram\n",
    "# requires login we suggest that you auto login using chrome and then use chrome user data\n",
    "# as an argument to load the chrome browser\n",
    "# The browser is fully loaded and viewable to the user as this is not a fully automated scraper\n",
    "url = 'https://www.instagram.com/eggsoeufs/'\n",
    "options = webdriver.ChromeOptions()\n",
    "options.add_argument(r\"--user-data-dir=C:\\Users\\alexe\\AppData\\Local\\Google\\Chrome\\User Data\")\n",
    "options.add_argument(r'--profile-directory=Default')\n",
    "driver = webdriver.Chrome(executable_path=r\"chromedriver.exe\", options=options)\n",
    "driver.get(url)"
   ]
  },
  {
   "cell_type": "code",
   "execution_count": 118,
   "id": "1f61220e",
   "metadata": {},
   "outputs": [],
   "source": [
    "driver.execute_script(\"window.scrollTo(0, document.body.scrollHeight);\")"
   ]
  },
  {
   "cell_type": "code",
   "execution_count": 21,
   "id": "837c16ec",
   "metadata": {},
   "outputs": [
    {
     "name": "stdout",
     "output_type": "stream",
     "text": [
      "3226\n",
      "5417\n",
      "error\n",
      "error\n",
      "error\n",
      "error\n",
      "error\n",
      "error\n",
      "error\n",
      "error\n",
      "error\n",
      "error\n",
      "error\n",
      "error\n",
      "error\n",
      "error\n",
      "error\n",
      "7921\n",
      "error\n",
      "error\n",
      "error\n",
      "error\n",
      "error\n",
      "error\n",
      "error\n",
      "error\n",
      "error\n",
      "error\n",
      "error\n",
      "error\n",
      "error\n",
      "error\n",
      "error\n",
      "error\n",
      "error\n",
      "error\n",
      "error\n",
      "error\n",
      "error\n",
      "error\n",
      "error\n",
      "error\n",
      "9173\n",
      "10425\n",
      "11677\n",
      "12929\n",
      "error\n",
      "error\n",
      "error\n",
      "error\n",
      "error\n",
      "error\n",
      "error\n",
      "error\n",
      "error\n",
      "error\n",
      "error\n",
      "error\n",
      "14181\n",
      "15433\n",
      "16685\n",
      "17937\n",
      "19189\n",
      "20441\n",
      "21693\n",
      "22945\n",
      "24197\n",
      "25449\n",
      "26701\n",
      "27953\n",
      "error\n",
      "error\n",
      "error\n",
      "error\n",
      "error\n",
      "error\n",
      "error\n",
      "error\n",
      "error\n",
      "error\n",
      "error\n",
      "error\n",
      "29205\n"
     ]
    }
   ],
   "source": [
    "# We will auto scroll until either we can't scroll anymore or the number of iterations of the scroll\n",
    "# reaches 0 based on the count value. Thus if the page has a large number of inputs we will not be able\n",
    "# to save everything.\n",
    "# Since we are trying to get the text of the images we are collecting the links and storing them in list_links\n",
    "last_height = driver.execute_script(\"return document.body.scrollHeight\")\n",
    "boolScroll = True\n",
    "count = 20\n",
    "set_links = set()\n",
    "while (boolScroll) and (count > 0):\n",
    "    driver.execute_script(\"window.scrollTo(0, document.body.scrollHeight);\")\n",
    "    count = count - 1\n",
    "    temp = driver.find_elements(By.XPATH,\"//div[@class='_aabd _aa8k  _al3l']\")\n",
    "    for item in temp:\n",
    "        try:\n",
    "            temp1 = item.find_element(By.TAG_NAME, 'a')\n",
    "            set_links.add(temp1.get_attribute('href'))\n",
    "        except StaleElementReferenceException as Exception:\n",
    "            print(\"error\")\n",
    "    time.sleep(7)\n",
    "    new_height = driver.execute_script(\"return document.body.scrollHeight\")\n",
    "    if new_height == last_height:\n",
    "        boolScroll = False\n",
    "        print(new_height)\n",
    "    else:\n",
    "        last_height = new_height\n",
    "    print(last_height)"
   ]
  },
  {
   "cell_type": "code",
   "execution_count": 22,
   "id": "9b932406",
   "metadata": {},
   "outputs": [
    {
     "name": "stdout",
     "output_type": "stream",
     "text": [
      "261 {'https://www.instagram.com/p/CofkMzIgfj5/', 'https://www.instagram.com/p/CmZbuK-uiiI/', 'https://www.instagram.com/p/CjGLsyyOC78/', 'https://www.instagram.com/p/CpvA78_M5Va/', 'https://www.instagram.com/p/ClJp5KYAYmd/', 'https://www.instagram.com/p/Cr8X5sOOpBN/', 'https://www.instagram.com/p/CgcIR6ZNYqx/', 'https://www.instagram.com/p/CrgV3ymSTP6/', 'https://www.instagram.com/p/ClRX_d0gwXI/', 'https://www.instagram.com/p/Cktbk-DAKhI/', 'https://www.instagram.com/p/CqTM-JAAqhX/', 'https://www.instagram.com/p/CmPIrFngEGL/', 'https://www.instagram.com/p/CrQ5C4FMVcz/', 'https://www.instagram.com/p/CgCkaMZl3qX/', 'https://www.instagram.com/p/CmcAsuJA9no/', 'https://www.instagram.com/p/CfHerNMOOsc/', 'https://www.instagram.com/p/Cp77a-5AH8L/', 'https://www.instagram.com/p/Crd0WcZgAAf/', 'https://www.instagram.com/p/Ckv3SSJNk6v/', 'https://www.instagram.com/p/CjBDPuxgSIf/', 'https://www.instagram.com/p/Cp5WGxbtmOX/', 'https://www.instagram.com/p/CgpHSAJMXbg/', 'https://www.instagram.com/p/ClOws2DudxI/', 'https://www.instagram.com/p/Cpk256SpRs8/', 'https://www.instagram.com/p/CmzLlKsO4cx/', 'https://www.instagram.com/p/CfgzmRPsuqc/', 'https://www.instagram.com/p/CnPYrZgDfSx/', 'https://www.instagram.com/p/CgKiLz_vLBB/', 'https://www.instagram.com/p/CfW7drcAjLD/', 'https://www.instagram.com/p/ChK70PtPAa_/', 'https://www.instagram.com/p/Cfjsyszg-IQ/', 'https://www.instagram.com/p/Cm4VzvRgIn_/', 'https://www.instagram.com/p/Cn4tVZGL4Av/', 'https://www.instagram.com/p/CnUor6NLhMp/', 'https://www.instagram.com/p/Cp0MptKyzXS/', 'https://www.instagram.com/p/CpfzvGTNeJW/', 'https://www.instagram.com/p/CkOS7puAsf9/', 'https://www.instagram.com/p/CpVaURHgEPb/', 'https://www.instagram.com/p/CgxDVBCuPgU/', 'https://www.instagram.com/p/CgX6DIYsbtP/', 'https://www.instagram.com/p/CsB0mAFgZeO/', 'https://www.instagram.com/p/Cfb3UdnAYcA/', 'https://www.instagram.com/p/CnSS7UDLUUg/', 'https://www.instagram.com/p/Chcnn4nAi4M/', 'https://www.instagram.com/p/CopjYK5gtpV/', 'https://www.instagram.com/p/CoaLq-MOcrJ/', 'https://www.instagram.com/p/CpNrYifNe9c/', 'https://www.instagram.com/p/CiaVpp1AZ41/', 'https://www.instagram.com/p/ChNOA5FACrn/', 'https://www.instagram.com/p/CpxntFvB0fJ/', 'https://www.instagram.com/p/CgfCOnFAc70/', 'https://www.instagram.com/p/ClTwIBBAx1q/', 'https://www.instagram.com/p/Cj52KPzg7mR/', 'https://www.instagram.com/p/CqtAE2AhWLW/', 'https://www.instagram.com/p/CfUddmhOlI2/', 'https://www.instagram.com/p/ChkudVOM9Do/', 'https://www.instagram.com/p/CinT2YPgqJx/', 'https://www.instagram.com/p/Chu2lXTAjgD/', 'https://www.instagram.com/p/CqqROelSXSG/', 'https://www.instagram.com/p/ClErIRqOp4t/', 'https://www.instagram.com/p/CoFsDkKOyZK/', 'https://www.instagram.com/p/ClZHBQIA2c0/', 'https://www.instagram.com/p/Co989MEA28h/', 'https://www.instagram.com/p/CfzC4OJgSZ_/', 'https://www.instagram.com/p/CjVqAgggsV7/', 'https://www.instagram.com/p/CrBji-zpcOg/', 'https://www.instagram.com/p/CpS1GeXSoft/', 'https://www.instagram.com/p/CkQ6BgOtkJ-/', 'https://www.instagram.com/p/CjQfLTAg504/', 'https://www.instagram.com/p/CgUhdU2gKix/', 'https://www.instagram.com/p/CfpKp1vudS2/', 'https://www.instagram.com/p/CrLxPHhA0Hg/', 'https://www.instagram.com/p/CguZMQygIaZ/', 'https://www.instagram.com/p/CqN9ZtggLUi/', 'https://www.instagram.com/p/CghbyOJgEUs/', 'https://www.instagram.com/p/CmFW9agLV8L/', 'https://www.instagram.com/p/CgHZFwuOm_N/', 'https://www.instagram.com/p/Cr5VjgNs14w/', 'https://www.instagram.com/p/CkoIrLBuf5v/', 'https://www.instagram.com/p/Ci2hH61MbLr/', 'https://www.instagram.com/p/CjYbOr0gjBO/', 'https://www.instagram.com/p/Chzxo82ARM7/', 'https://www.instagram.com/p/Ch-GEDvg3TK/', 'https://www.instagram.com/p/CqDpO21MmcH/', 'https://www.instagram.com/p/CkbJ64jOoXo/', 'https://www.instagram.com/p/CmuPsBiu6bQ/', 'https://www.instagram.com/p/Cf9jdW9uJNb/', 'https://www.instagram.com/p/Cf6w5FCOlBF/', 'https://www.instagram.com/p/CgPfEUwsMcI/', 'https://www.instagram.com/p/CpzwPMdPBlh/', 'https://www.instagram.com/p/CnhiDJJNMjT/', 'https://www.instagram.com/p/Cgft1dMPbqp/', 'https://www.instagram.com/p/ClyzvFcuJdB/', 'https://www.instagram.com/p/CgMksBRsuFw/', 'https://www.instagram.com/p/CrI823lsczY/', 'https://www.instagram.com/p/CoNi2ziAzQz/', 'https://www.instagram.com/p/CgFHpLVAzIu/', 'https://www.instagram.com/p/CqbSLM3DdSQ/', 'https://www.instagram.com/p/CqLUNYLpbiZ/', 'https://www.instagram.com/p/Ci-emsQAxyA/', 'https://www.instagram.com/p/CpLHJp1gGJ2/', 'https://www.instagram.com/p/ChfLkaoAGJp/', 'https://www.instagram.com/p/ChLU0R6ASIK/', 'https://www.instagram.com/p/CqGbrL_u4w8/', 'https://www.instagram.com/p/ChXyEdRuOVp/', 'https://www.instagram.com/p/CnCocd4NFvY/', 'https://www.instagram.com/p/CocutTvurID/', 'https://www.instagram.com/p/CfZSkIYNDse/', 'https://www.instagram.com/p/CmRwBw2ANpz/', 'https://www.instagram.com/p/CnXO4F0LQdN/', 'https://www.instagram.com/p/CpdBiqHA_fH/', 'https://www.instagram.com/p/Cg2TuOBOarc/', 'https://www.instagram.com/p/Cp-N3WlDYqY/', 'https://www.instagram.com/p/Cnr4e2DgzKO/', 'https://www.instagram.com/p/CnFR27pgEcW/', 'https://www.instagram.com/p/Clogmlbuu13/', 'https://www.instagram.com/p/ChAmgIOA5i_/', 'https://www.instagram.com/p/CfecYKxAc3C/', 'https://www.instagram.com/p/CiLMQnWgcsJ/', 'https://www.instagram.com/p/ClHFJvYAFvr/', 'https://www.instagram.com/p/ChSwGe7rb0d/', 'https://www.instagram.com/p/CrGlx8zsYlL/', 'https://www.instagram.com/p/ClgykHhAkWs/', 'https://www.instagram.com/p/Cp2w959NThb/', 'https://www.instagram.com/p/CrTkrIRhxLK/', 'https://www.instagram.com/p/CmCRaTsAtUZ/', 'https://www.instagram.com/p/CmMc1lhuzj4/', 'https://www.instagram.com/p/Cm9fP1LOaFh/', 'https://www.instagram.com/p/CrvlPAutHrD/', 'https://www.instagram.com/p/Cl4EUf9upeP/', 'https://www.instagram.com/p/Cr3TLqaMk3H/', 'https://www.instagram.com/p/Co4wpmEOwqx/', 'https://www.instagram.com/p/CnzkggUvZy_/', 'https://www.instagram.com/p/Cg4kId8A9jP/', 'https://www.instagram.com/p/Cq5u2VlMINx/', 'https://www.instagram.com/p/Chut1xUpBpA/', 'https://www.instagram.com/p/Chh0O24AkoC/', 'https://www.instagram.com/p/Chm6qKDgaXR/', 'https://www.instagram.com/p/Ch48_mvgYiu/', 'https://www.instagram.com/p/Ck8v8y-Aond/', 'https://www.instagram.com/p/CqBGhyKgJVs/', 'https://www.instagram.com/p/CfKFaZWAXde/', 'https://www.instagram.com/p/Cqnsepst0Yq/', 'https://www.instagram.com/p/Cf4LxUQAep4/', 'https://www.instagram.com/p/ChVNRtxuaWR/', 'https://www.instagram.com/p/CqyGiBmMZV3/', 'https://www.instagram.com/p/CrlfgdMto5u/', 'https://www.instagram.com/p/Cip26mfuaYu/', 'https://www.instagram.com/p/CnpQzk5gsLB/', 'https://www.instagram.com/p/Cr08Ou5s2qT/', 'https://www.instagram.com/p/CfrUInru5Jy/', 'https://www.instagram.com/p/CrtZmU2g-s0/', 'https://www.instagram.com/p/CnNCcXRLSF_/', 'https://www.instagram.com/p/CmhKFZdr7gG/', 'https://www.instagram.com/p/CpiRzFXs58Y/', 'https://www.instagram.com/p/CkWYMl8gIoA/', 'https://www.instagram.com/p/Ci8NvvkAOA8/', 'https://www.instagram.com/p/Coh983HAawk/', 'https://www.instagram.com/p/CpqIwQfguNj/', 'https://www.instagram.com/p/CqVyyCMAzaf/', 'https://www.instagram.com/p/CrOUuNXArA2/', 'https://www.instagram.com/p/CrEG6eggJgn/', 'https://www.instagram.com/p/CpF99mmAunZ/', 'https://www.instagram.com/p/CnfEDi9ugvV/', 'https://www.instagram.com/p/Ci5UNQ1gPZ4/', 'https://www.instagram.com/p/CpQQWFStjMN/', 'https://www.instagram.com/p/ClrFwTNAT5b/', 'https://www.instagram.com/p/CkBaCb5gIxJ/', 'https://www.instagram.com/p/ChKlqAnuXCw/', 'https://www.instagram.com/p/ChxNdq1AOkE/', 'https://www.instagram.com/p/Cmju8rMuvTy/', 'https://www.instagram.com/p/CnuaEwWuXnW/', 'https://www.instagram.com/p/CmWczQ0Arwn/', 'https://www.instagram.com/p/CqFr3WwgCM-/', 'https://www.instagram.com/p/Cifxee_pOzD/', 'https://www.instagram.com/p/CoQCLuJg977/', 'https://www.instagram.com/p/CqlOYnsyi_x/', 'https://www.instagram.com/p/CoXt0eerxZ6/', 'https://www.instagram.com/p/CjDhWXVA4cr/', 'https://www.instagram.com/p/CqYP_Dlgy2f/', 'https://www.instagram.com/p/ChLdu0pp7c5/', 'https://www.instagram.com/p/CiIcW5lg8Qj/', 'https://www.instagram.com/p/CsGWGbzgQLB/', 'https://www.instagram.com/p/ChCpbqaudr2/', 'https://www.instagram.com/p/CgAPIAhO20-/', 'https://www.instagram.com/p/CnH9UZ2goby/', 'https://www.instagram.com/p/CsJiqAZghe1/', 'https://www.instagram.com/p/Cr38xpyOjRI/', 'https://www.instagram.com/p/ConEBmEAC8w/', 'https://www.instagram.com/p/CrjBnJZAu4B/', 'https://www.instagram.com/p/CkL4V16Ag7G/', 'https://www.instagram.com/p/CpnbaEBsyb_/', 'https://www.instagram.com/p/CmW25H-PzxP/', 'https://www.instagram.com/p/CkgNBDZuHg0/', 'https://www.instagram.com/p/CkJWCWBLD-c/', 'https://www.instagram.com/p/ChpzpQbuect/', 'https://www.instagram.com/p/Cjnz8kZAT_u/', 'https://www.instagram.com/p/Cj8TuUzAne0/', 'https://www.instagram.com/p/CgmVd73Algn/', 'https://www.instagram.com/p/CqdLXSxtMov/', 'https://www.instagram.com/p/CgC6nlaOINp/', 'https://www.instagram.com/p/CfwyScxMvAq/', 'https://www.instagram.com/p/ChdZxoGlyBW/', 'https://www.instagram.com/p/CkyplBvt8My/', 'https://www.instagram.com/p/Co7p9DUsHiV/', 'https://www.instagram.com/p/Coz7pWkOirv/', 'https://www.instagram.com/p/CjstqY0gs_y/', 'https://www.instagram.com/p/Chd5W9GORnw/', 'https://www.instagram.com/p/Ck3li_CAdtj/', 'https://www.instagram.com/p/Cj0votbu2Ws/', 'https://www.instagram.com/p/ChcdWCnFrrc/', 'https://www.instagram.com/p/ChaR8EhJWd5/', 'https://www.instagram.com/p/Cn2Kon5DuK3/', 'https://www.instagram.com/p/Cl1bh-IjkcW/', 'https://www.instagram.com/p/Cg7LfyYgj_t/', 'https://www.instagram.com/p/CgdJ_zWrIQZ/', 'https://www.instagram.com/p/CqEHQlvPru3/', 'https://www.instagram.com/p/CoDCqQUAAKz/', 'https://www.instagram.com/p/Cmrdln-AY9j/', 'https://www.instagram.com/p/CmHaOaRuQR-/', 'https://www.instagram.com/p/CplWlPFsE-F/', 'https://www.instagram.com/p/Cl6v4MfNhrY/', 'https://www.instagram.com/p/CixS_B1A590/', 'https://www.instagram.com/p/Cgrr7tGOvBt/', 'https://www.instagram.com/p/CmEuW04jHGH/', 'https://www.instagram.com/p/Cft457tOSRu/', 'https://www.instagram.com/p/CfmAEwvuwMJ/', 'https://www.instagram.com/p/ClboqJ4uTNJ/', 'https://www.instagram.com/p/Cjvt-C9gGFU/', 'https://www.instagram.com/p/Civb4n-uoRW/', 'https://www.instagram.com/p/CidAIL7A92f/', 'https://www.instagram.com/p/CgXaIIqgxfJ/', 'https://www.instagram.com/p/CsMLI8-AtB3/', 'https://www.instagram.com/p/CmwnmZygc6F/', 'https://www.instagram.com/p/CjLXH69AAXW/', 'https://www.instagram.com/p/CjdYvGCgCuF/', 'https://www.instagram.com/p/CnADtzXg-6d/', 'https://www.instagram.com/p/ChIcEICun9Q/', 'https://www.instagram.com/p/CryXx9nMaPz/', 'https://www.instagram.com/p/CgkLbShg450/', 'https://www.instagram.com/p/CoKvwU3gZQi/', 'https://www.instagram.com/p/CnkI6iGAbze/', 'https://www.instagram.com/p/Cou07HiA7fV/', 'https://www.instagram.com/p/Cja1hugg-vk/', 'https://www.instagram.com/p/Cq_2WgkpZma/', 'https://www.instagram.com/p/CrWFHw9gbdc/', 'https://www.instagram.com/p/Ckld0F2AHLm/', 'https://www.instagram.com/p/CiiFzcvgyHn/', 'https://www.instagram.com/p/CoISUuzgKkG/', 'https://www.instagram.com/p/CpDYYkzsTxn/', 'https://www.instagram.com/p/CoVB5QwOSfx/', 'https://www.instagram.com/p/Cq8SwsCsfeJ/', 'https://www.instagram.com/p/ChNj6H4J7xp/', 'https://www.instagram.com/p/CmelPf-rGGN/', 'https://www.instagram.com/p/CiktkgRABO-/', 'https://www.instagram.com/p/CoxWrZ_NHIJ/', 'https://www.instagram.com/p/CnxAkzUA8-O/', 'https://www.instagram.com/p/CrbFoAYAsus/', 'https://www.instagram.com/p/CroMmznAJZA/', 'https://www.instagram.com/p/Cq0kr_7A9Dp/', 'https://www.instagram.com/p/ChK-K3Iv4Lv/'}\n"
     ]
    }
   ],
   "source": [
    "print(len(set_links), set_links)"
   ]
  },
  {
   "cell_type": "code",
   "execution_count": 23,
   "id": "f3ec43be",
   "metadata": {},
   "outputs": [],
   "source": [
    "driver.get(list(set_links)[-1])"
   ]
  },
  {
   "cell_type": "code",
   "execution_count": 24,
   "id": "f00e3050",
   "metadata": {},
   "outputs": [
    {
     "data": {
      "text/plain": [
       "'Aug 12, 2022'"
      ]
     },
     "execution_count": 24,
     "metadata": {},
     "output_type": "execute_result"
    }
   ],
   "source": [
    "driver.find_element(By.XPATH,\"//time[@class='_aaqe']\").get_attribute(\"title\")"
   ]
  },
  {
   "cell_type": "code",
   "execution_count": 25,
   "id": "69494af6",
   "metadata": {},
   "outputs": [
    {
     "data": {
      "text/plain": [
       "'My weekends are truly not complete without #BrunchTime🍳 and my brunch meal staple is ALWAY EGGS 🍳. #ad I love all the creative ways our local restaurants use eggs in their menus, from a good old-fashioned classic breakfast to an unforgettable brunch bowl egg-sperience. Here are some of my favourite local spots featuring egg-ceptional egg dishes that you need to check out:\\n\\n🥚 Classic Breakfast from @bluestar_yyc\\n\\n🥚Bagel Forestiere from @oeb_breakfast\\n\\n🥚Truffle bacon mushroom bowl and Duck Confit Monte Cristo from @namoyyc\\n\\n🥚Bird nest from @zcrewcafe\\n\\nLet me know your favourite brunch spot in Calgary! @eggsoeufs #EggsAnytime #LocalLove'"
      ]
     },
     "execution_count": 25,
     "metadata": {},
     "output_type": "execute_result"
    }
   ],
   "source": [
    "driver.find_element(By.XPATH, \"//h1[@class='_aacl _aaco _aacu _aacx _aad7 _aade']\").text"
   ]
  },
  {
   "cell_type": "code",
   "execution_count": 26,
   "id": "94a06d6d",
   "metadata": {},
   "outputs": [
    {
     "data": {
      "text/plain": [
       "'rachelhaneats'"
      ]
     },
     "execution_count": 26,
     "metadata": {},
     "output_type": "execute_result"
    }
   ],
   "source": [
    "driver.find_element(By.XPATH, \"//div[@class='xt0psk2']\").text"
   ]
  },
  {
   "cell_type": "code",
   "execution_count": 27,
   "id": "fbd2a86b",
   "metadata": {},
   "outputs": [
    {
     "data": {
      "text/plain": [
       "'https://scontent.cdninstagram.com/v/t51.2885-15/298670680_610408290444642_6670465811055762567_n.jpg?stp=dst-jpg_e35&_nc_ht=scontent.cdninstagram.com&_nc_cat=106&_nc_ohc=GG5oz4w6OhsAX_yZklV&edm=APs17CUBAAAA&ccb=7-5&ig_cache_key=MjkwMzQwNjMzMDYyODcyMDM4Mg%3D%3D.2-ccb7-5&oh=00_AfDhg1fDDiA1tizvKV_NNGp_QkvIG5X71Hawd2FG_2k21w&oe=6466866E&_nc_sid=978cb9'"
      ]
     },
     "execution_count": 27,
     "metadata": {},
     "output_type": "execute_result"
    }
   ],
   "source": [
    "driver.find_element(By.XPATH, \"//div[@class='_aagv']/img\").get_attribute('src')"
   ]
  },
  {
   "cell_type": "code",
   "execution_count": null,
   "id": "a64ae5d6",
   "metadata": {},
   "outputs": [],
   "source": []
  }
 ],
 "metadata": {
  "kernelspec": {
   "display_name": "Python 3 (ipykernel)",
   "language": "python",
   "name": "python3"
  },
  "language_info": {
   "codemirror_mode": {
    "name": "ipython",
    "version": 3
   },
   "file_extension": ".py",
   "mimetype": "text/x-python",
   "name": "python",
   "nbconvert_exporter": "python",
   "pygments_lexer": "ipython3",
   "version": "3.8.16"
  }
 },
 "nbformat": 4,
 "nbformat_minor": 5
}
